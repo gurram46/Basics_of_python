{
  "nbformat": 4,
  "nbformat_minor": 0,
  "metadata": {
    "colab": {
      "provenance": [],
      "authorship_tag": "ABX9TyMRzB0PELJX5YaWmSWsCjNp",
      "include_colab_link": true
    },
    "kernelspec": {
      "name": "python3",
      "display_name": "Python 3"
    },
    "language_info": {
      "name": "python"
    }
  },
  "cells": [
    {
      "cell_type": "markdown",
      "metadata": {
        "id": "view-in-github",
        "colab_type": "text"
      },
      "source": [
        "<a href=\"https://colab.research.google.com/github/gurram46/Basics_of_python/blob/main/Basics_of_python.ipynb\" target=\"_parent\"><img src=\"https://colab.research.google.com/assets/colab-badge.svg\" alt=\"Open In Colab\"/></a>"
      ]
    },
    {
      "cell_type": "markdown",
      "source": [
        "# Python Programming Assignment\n"
      ],
      "metadata": {
        "id": "uNPF-gjDv18W"
      }
    },
    {
      "cell_type": "markdown",
      "source": [
        "**Exercise 1: Prime Numbers**\n",
        "\n",
        "Write a Python program that checks whether a given number is prime or not. A prime number is a natural number greater than 1 that has no positive divisors other than 1 and itself.\n"
      ],
      "metadata": {
        "id": "H1Z1H9nWv-El"
      }
    },
    {
      "cell_type": "code",
      "execution_count": null,
      "metadata": {
        "colab": {
          "base_uri": "https://localhost:8080/"
        },
        "id": "K4ulD4-ivoEg",
        "outputId": "39522dc4-5e9b-494d-be6b-e8fbf37ba75a"
      },
      "outputs": [
        {
          "output_type": "stream",
          "name": "stdout",
          "text": [
            "enter a number1\n",
            "not a prime number\n"
          ]
        }
      ],
      "source": [
        "num=int(input(\"enter a number\"))\n",
        "\n",
        "if num<=1:\n",
        "    print(\"not a prime number\")\n",
        "else:\n",
        "  for i in range(2,num):\n",
        "    if num%i==0:\n",
        "      print(f\"{num} is not a prime number\")\n",
        "      break\n",
        "  else:\n",
        "    print(f\"{num} is a prime number\")\n"
      ]
    },
    {
      "cell_type": "markdown",
      "source": [
        "In the above program we are taking input from the user and storing it in a varable num now we are checking the given varible is identifies that any number less than or equal to 1 if its not equal then it prints not a prime number\n",
        "if it is equal then for loop beguns if any number is devesible by 2 except 2 is not a prime number if the give number is not devesibel by itself it not a prime number if a number is devesible by it self then it's a prime number"
      ],
      "metadata": {
        "id": "lhGx_Afq2wQR"
      }
    },
    {
      "cell_type": "markdown",
      "source": [
        "**Exercise 2: Product of Random Numbers**\n",
        "\n",
        "Develop a Python program that generates two random numbers and asks the user to enter the product of these numbers. The program should then check if the user's answer is correct and display an appropriate message\n"
      ],
      "metadata": {
        "id": "ZXZHgYYHy7OM"
      }
    },
    {
      "cell_type": "code",
      "source": [
        "import random\n",
        "\n",
        "num1= random.randint(1,10)\n",
        "num2= random.randint(1,10)\n",
        "\n",
        "print(f\"{num1}, {num2} this are 2 random numbers \")\n",
        "\n",
        "a=int(input(\"enter the product of the numbers\"))\n",
        "\n",
        "b=num1*num2\n",
        "\n",
        "if a==b:\n",
        "    print(\"correct\")\n",
        "else:\n",
        "    print(\"Incorrect the answer is incorrect the correct answer is:\", b)"
      ],
      "metadata": {
        "colab": {
          "base_uri": "https://localhost:8080/"
        },
        "id": "2hzjaNEwzCNP",
        "outputId": "0b10cbb1-ec2d-4f33-9e64-d636ccbe266e"
      },
      "execution_count": null,
      "outputs": [
        {
          "output_type": "stream",
          "name": "stdout",
          "text": [
            "2, 3 this are 2 random numbers \n",
            "enter the product of the numbers9\n",
            "Incorrect the answer is incorrect the correct answer is: 6\n"
          ]
        }
      ]
    },
    {
      "cell_type": "markdown",
      "source": [
        "\n",
        "\n",
        "*   Here we are importing random to generating random numbers\n",
        "*   And we are multiplying it the random numbers and comparing with user input using if conduction\n",
        "\n"
      ],
      "metadata": {
        "id": "AZWyvfOSiyf5"
      }
    },
    {
      "cell_type": "markdown",
      "source": [
        "**Exercise 3: Squares of Even/Odd Numbers**\n",
        "Create a Python script that prints the squares of all even or odd numbers within the range of 100 to 200. Choose either even or odd numbers and document your choice in the code.\n",
        "\n"
      ],
      "metadata": {
        "id": "39eiPQg3pjlC"
      }
    },
    {
      "cell_type": "code",
      "source": [
        "for i in range (100, 201):\n",
        "  if i%2==0:\n",
        "    print(f\"{i} squared is {i**2}\")"
      ],
      "metadata": {
        "colab": {
          "base_uri": "https://localhost:8080/"
        },
        "id": "Q4TFFoInj4ob",
        "outputId": "dc7559be-9ce7-4ad8-a5e2-26e7f53ee6cf"
      },
      "execution_count": null,
      "outputs": [
        {
          "output_type": "stream",
          "name": "stdout",
          "text": [
            "100 squared is 10000\n",
            "102 squared is 10404\n",
            "104 squared is 10816\n",
            "106 squared is 11236\n",
            "108 squared is 11664\n",
            "110 squared is 12100\n",
            "112 squared is 12544\n",
            "114 squared is 12996\n",
            "116 squared is 13456\n",
            "118 squared is 13924\n",
            "120 squared is 14400\n",
            "122 squared is 14884\n",
            "124 squared is 15376\n",
            "126 squared is 15876\n",
            "128 squared is 16384\n",
            "130 squared is 16900\n",
            "132 squared is 17424\n",
            "134 squared is 17956\n",
            "136 squared is 18496\n",
            "138 squared is 19044\n",
            "140 squared is 19600\n",
            "142 squared is 20164\n",
            "144 squared is 20736\n",
            "146 squared is 21316\n",
            "148 squared is 21904\n",
            "150 squared is 22500\n",
            "152 squared is 23104\n",
            "154 squared is 23716\n",
            "156 squared is 24336\n",
            "158 squared is 24964\n",
            "160 squared is 25600\n",
            "162 squared is 26244\n",
            "164 squared is 26896\n",
            "166 squared is 27556\n",
            "168 squared is 28224\n",
            "170 squared is 28900\n",
            "172 squared is 29584\n",
            "174 squared is 30276\n",
            "176 squared is 30976\n",
            "178 squared is 31684\n",
            "180 squared is 32400\n",
            "182 squared is 33124\n",
            "184 squared is 33856\n",
            "186 squared is 34596\n",
            "188 squared is 35344\n",
            "190 squared is 36100\n",
            "192 squared is 36864\n",
            "194 squared is 37636\n",
            "196 squared is 38416\n",
            "198 squared is 39204\n",
            "200 squared is 40000\n"
          ]
        }
      ]
    },
    {
      "cell_type": "markdown",
      "source": [
        "I choosen even number it's an simple for loop"
      ],
      "metadata": {
        "id": "VO1JaxqrqFh1"
      }
    },
    {
      "cell_type": "markdown",
      "source": [
        "**Exercise 4: Word counter**\n",
        "\n",
        "write a program to count the number of words in a given text.\n",
        "example:\n",
        "input_text = \"This is a sample text. This text will be used to demonstrate the word counter.\"\n",
        "\n",
        "Expected output:\n",
        "\n",
        "'This': 2\n",
        "\n",
        "'is': 1\n",
        "\n",
        "'a': 1\n",
        "\n",
        "'sample': 1\n",
        "\n",
        "'text.': 1\n"
      ],
      "metadata": {
        "id": "rnzI697u50_K"
      }
    },
    {
      "cell_type": "code",
      "source": [
        "from collections import Counter\n",
        "input_text = input(\"enter a text\")\n",
        "\n",
        "word = input_text.split()\n",
        "\n",
        "word_count = Counter(word)\n",
        "\n",
        "for word, count in word_count.items():\n",
        "  print(f\"{word} count is  {count}\")"
      ],
      "metadata": {
        "id": "0msCTe_vqYbb",
        "colab": {
          "base_uri": "https://localhost:8080/"
        },
        "outputId": "72042baf-4a81-4958-da83-8e1795d4bd82"
      },
      "execution_count": 5,
      "outputs": [
        {
          "output_type": "stream",
          "name": "stdout",
          "text": [
            "enter a texthi this is sandeep from india this is an testing paragraph only i want i make it clear my name is sandeep\n",
            "hi count is  1\n",
            "this count is  2\n",
            "is count is  3\n",
            "sandeep count is  2\n",
            "from count is  1\n",
            "india count is  1\n",
            "an count is  1\n",
            "testing count is  1\n",
            "paragraph count is  1\n",
            "only count is  1\n",
            "i count is  2\n",
            "want count is  1\n",
            "make count is  1\n",
            "it count is  1\n",
            "clear count is  1\n",
            "my count is  1\n",
            "name count is  1\n"
          ]
        }
      ]
    },
    {
      "cell_type": "markdown",
      "source": [
        "we have used collection labary and impoeted counter for counting the word and we used split is a method to break down string into word\n",
        "\n",
        "example : \"This is a sample text.\" will become ['This', 'is', 'a', 'sample', 'text.']"
      ],
      "metadata": {
        "id": "JFzFM5iJCMCd"
      }
    },
    {
      "cell_type": "markdown",
      "source": [
        "**Exercise 5:**\n",
        "\n",
        "**Check for Palindrome**\n",
        "\n",
        "Write a Python function called is_palindrome that takes a string as input and returns True if the string is a palindrome, and False otherwise. A palindrome is a word, phrase, number, or other sequence of characters that reads the same forward and backward, ignoring spaces, punctuation, and capitalization.\n",
        "Example:\n",
        "\n",
        "Input: \"racecar\"\n",
        "\n",
        "Expected Output: True\n"
      ],
      "metadata": {
        "id": "HG5l4esVJT8G"
      }
    },
    {
      "cell_type": "code",
      "source": [
        "def is_palindrome():\n",
        "  a=input(\"enter a palindrome sequence \").lower()\n",
        "\n",
        "  cleaned_string=\"\"\n",
        "  for char in a:\n",
        "    if char.isalnum():\n",
        "      cleaned_string+=char\n",
        "  reversed_string = cleaned_string[::-1]\n",
        "\n",
        "  if reversed_string == cleaned_string:\n",
        "    print(\"True\")\n",
        "  else:\n",
        "    print(\"False\")\n",
        "\n",
        "\n",
        "is_palindrome()\n"
      ],
      "metadata": {
        "colab": {
          "base_uri": "https://localhost:8080/"
        },
        "id": "oqyItlGnJIhP",
        "outputId": "9ca667ce-8372-4d05-8824-9e9618242dac"
      },
      "execution_count": 33,
      "outputs": [
        {
          "output_type": "stream",
          "name": "stdout",
          "text": [
            "enter a palindrome sequence racecar\n",
            "True\n"
          ]
        }
      ]
    },
    {
      "cell_type": "markdown",
      "source": [
        "We have used if,conduction and for conduction etc\n",
        "\n",
        "First we taken user input and changed it into lower cases\n",
        "\n",
        "Then we looped it for removing spaces by using is alphanumeric which checks it is any char ot=r num if any spaces are there autometicly deleted\n",
        "\n",
        "Then we reverse the string.\n",
        "\n",
        "After that we compare both normal string and reversed string if both are same we will print true if not we print false\n",
        "\n",
        "---\n",
        "\n"
      ],
      "metadata": {
        "id": "McZ87tL_C8qF"
      }
    }
  ]
}